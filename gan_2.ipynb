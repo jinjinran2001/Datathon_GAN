{
 "cells": [
  {
   "cell_type": "code",
   "execution_count": 2,
   "id": "d4cf3948-715f-4682-a84c-e0d584f1c474",
   "metadata": {},
   "outputs": [],
   "source": [
    "import torch\n",
    "import torch.nn as nn\n",
    "import torch.nn.parallel\n",
    "import torch.optim as optim\n",
    "import torch.utils.data\n",
    "from torch.utils.data import Dataset\n",
    "import pandas as pd\n",
    "from torch.utils.data import DataLoader\n",
    "from sklearn.preprocessing import StandardScaler"
   ]
  },
  {
   "cell_type": "code",
   "execution_count": 3,
   "id": "b6f6b61a-5905-4336-a9a1-c1f447af61e7",
   "metadata": {},
   "outputs": [
    {
     "name": "stdout",
     "output_type": "stream",
     "text": [
      "There are 1 GPU(s) available.\n",
      "Device name: NVIDIA GeForce GTX 1660 Ti\n"
     ]
    }
   ],
   "source": [
    "if torch.cuda.is_available():\n",
    "    device = torch.device(\"cuda\")\n",
    "    print(f'There are {torch.cuda.device_count()} GPU(s) available.')\n",
    "    print('Device name:', torch.cuda.get_device_name(0))\n",
    "\n",
    "else:\n",
    "    print('No GPU available, using the CPU instead.')\n",
    "    device = torch.device(\"cpu\")"
   ]
  },
  {
   "cell_type": "markdown",
   "id": "ede0efb9-0c59-4e8f-9505-1942eb2a1d50",
   "metadata": {},
   "source": [
    "## load and normalize data"
   ]
  },
  {
   "cell_type": "code",
   "execution_count": 4,
   "id": "42012410-0f31-4352-a796-242a450d8520",
   "metadata": {},
   "outputs": [],
   "source": [
    "class wineDataset(Dataset):\n",
    "    def __init__(self, data):\n",
    "        super().__init__()\n",
    "        self.data = data\n",
    "        \n",
    "    def __len__(self):\n",
    "        return self.data.shape[0]\n",
    "    \n",
    "    def __getitem__(self, idx):\n",
    "        features = self.data[idx]\n",
    "        return features"
   ]
  },
  {
   "cell_type": "code",
   "execution_count": 5,
   "id": "b7bd458f-0f4c-4630-8d6f-20a0c6af7f91",
   "metadata": {},
   "outputs": [],
   "source": [
    "X_train = pd.read_csv('./data/X_train.csv')\n",
    "y_train = pd.read_csv('./data/y_train.csv')\n",
    "\n",
    "train = pd.concat([X_train, y_train], axis=1)\n",
    "size = train.shape[0]\n",
    "scaler = StandardScaler()\n",
    "scaler.fit(train)\n",
    "train_scale = scaler.transform(train)\n",
    "\n",
    "train_dataloader = DataLoader(wineDataset(train_scale), batch_size=size, shuffle=True)\n"
   ]
  },
  {
   "cell_type": "code",
   "execution_count": 6,
   "id": "17b004e7-a275-410d-b11f-acef3abb701a",
   "metadata": {},
   "outputs": [
    {
     "data": {
      "text/plain": [
       "tensor([-1.2225, -0.4348, -0.3475, -0.6995, -0.3757, -1.2714, -0.9521, -0.4803,\n",
       "         0.5974, -0.6007, -1.1795, -0.7873], dtype=torch.float64)"
      ]
     },
     "execution_count": 6,
     "metadata": {},
     "output_type": "execute_result"
    }
   ],
   "source": [
    "next(enumerate(train_dataloader))[1][0]"
   ]
  },
  {
   "cell_type": "markdown",
   "id": "28092a94-28ab-47ad-82c1-487208209e53",
   "metadata": {},
   "source": [
    "## define model"
   ]
  },
  {
   "cell_type": "code",
   "execution_count": 7,
   "id": "192a6cef-eb7d-4f94-b847-cc13d2b6f266",
   "metadata": {},
   "outputs": [],
   "source": [
    "noise_len = 100"
   ]
  },
  {
   "cell_type": "code",
   "execution_count": 8,
   "id": "b5a93bf4-a527-40a7-9e19-7e8f58db08ce",
   "metadata": {},
   "outputs": [],
   "source": [
    "class Generator(nn.Module):\n",
    "    def __init__(self):\n",
    "        super(Generator, self).__init__()\n",
    "        self.gen = nn.Sequential(\n",
    "            nn.Linear(noise_len, 64),\n",
    "            nn.Tanh(),\n",
    "            nn.Linear(64, 32),\n",
    "            nn.Tanh(),\n",
    "            nn.Linear(32, 12),\n",
    "        )\n",
    "\n",
    "    def forward(self, input):\n",
    "        return self.gen(input)\n",
    "\n",
    "\n",
    "class Discriminator(nn.Module):\n",
    "    def __init__(self):\n",
    "        super(Discriminator, self).__init__()\n",
    "        self.dis = nn.Sequential(\n",
    "            nn.Linear(12, 64),\n",
    "            nn.Tanh(),\n",
    "            nn.Linear(64, 32),\n",
    "            nn.Tanh(),\n",
    "            nn.Linear(32, 1),\n",
    "            nn.Sigmoid()\n",
    "        )\n",
    "\n",
    "    def forward(self, input):\n",
    "        return self.dis(input)\n",
    "        "
   ]
  },
  {
   "cell_type": "markdown",
   "id": "7099f15d-5b52-49f4-baf9-1da60d33bd5d",
   "metadata": {},
   "source": [
    "## initialize training"
   ]
  },
  {
   "cell_type": "code",
   "execution_count": 9,
   "id": "b043aaeb-fe60-4e10-9b6f-5d53f47eb711",
   "metadata": {},
   "outputs": [],
   "source": [
    "netG = Generator().to(device)\n",
    "netD = Discriminator().to(device)\n",
    "\n",
    "criterion = nn.BCELoss()\n",
    "\n",
    "real_label = torch.ones((size, 1), dtype=torch.float32, device=device)\n",
    "fake_label = torch.zeros((size, 1), dtype=torch.float32, device=device)\n",
    "\n",
    "G_losses = []\n",
    "D_losses = []"
   ]
  },
  {
   "cell_type": "markdown",
   "id": "e0949606-a3a0-483a-9467-d84c3dbb61c3",
   "metadata": {},
   "source": [
    "## train"
   ]
  },
  {
   "cell_type": "code",
   "execution_count": 60,
   "id": "07d178fd-1014-449f-b53b-f00e1c5d9ae2",
   "metadata": {},
   "outputs": [],
   "source": [
    "lr = 0.0003\n",
    "num_epoch = 50\n",
    "\n",
    "optimizerD = optim.Adam(netD.parameters(), lr=lr, weight_decay=0)\n",
    "optimizerG = optim.Adam(netG.parameters(), lr=lr, weight_decay=0)"
   ]
  },
  {
   "cell_type": "markdown",
   "id": "00cacdc8-908f-4820-88f2-67685194090c",
   "metadata": {},
   "source": [
    "### train discriminator"
   ]
  },
  {
   "cell_type": "code",
   "execution_count": 77,
   "id": "52516e03-9150-4e6c-bff6-362af7de05e7",
   "metadata": {},
   "outputs": [
    {
     "name": "stdout",
     "output_type": "stream",
     "text": [
      "[0/50]\tLoss_D: 0.5546\tReal mean: 0.7708\tFake mean: 0.2065\n",
      "[5/50]\tLoss_D: 0.5419\tReal mean: 0.7734\tFake mean: 0.2005\n",
      "[10/50]\tLoss_D: 0.5373\tReal mean: 0.7761\tFake mean: 0.1995\n",
      "[15/50]\tLoss_D: 0.5372\tReal mean: 0.7786\tFake mean: 0.2026\n",
      "[20/50]\tLoss_D: 0.5242\tReal mean: 0.7812\tFake mean: 0.1958\n",
      "[25/50]\tLoss_D: 0.5148\tReal mean: 0.7840\tFake mean: 0.1916\n",
      "[30/50]\tLoss_D: 0.5071\tReal mean: 0.7871\tFake mean: 0.1898\n",
      "[35/50]\tLoss_D: 0.4926\tReal mean: 0.7901\tFake mean: 0.1823\n",
      "[40/50]\tLoss_D: 0.4894\tReal mean: 0.7930\tFake mean: 0.1837\n",
      "[45/50]\tLoss_D: 0.4902\tReal mean: 0.7957\tFake mean: 0.1865\n"
     ]
    }
   ],
   "source": [
    "for epoch in range(num_epoch):\n",
    "    for i, data in enumerate(train_dataloader):\n",
    "        \n",
    "        # real data\n",
    "        netD.zero_grad()\n",
    "        data = data.to(torch.float32).to(device)\n",
    "        \n",
    "        output = netD(data)\n",
    "\n",
    "        errD_real = criterion(output, real_label)\n",
    "        errD_real.backward()\n",
    "        D_x = output.mean().item()\n",
    "\n",
    "        # fake data\n",
    "        noise = torch.randn(size, noise_len, device=device)\n",
    "        fake = netG(noise)\n",
    "        \n",
    "        output = netD(fake)\n",
    "\n",
    "        errD_fake = criterion(output, fake_label)\n",
    "        errD_fake.backward()\n",
    "        D_G_z1 = output.mean().item()\n",
    "\n",
    "        errD = errD_real + errD_fake\n",
    "        optimizerD.step()\n",
    "\n",
    "        D_losses.append(errD.item())\n",
    "        \n",
    "    if epoch % 5 == 0:\n",
    "        print('[%d/%d]\\tLoss_D: %.4f\\tReal mean: %.4f\\tFake mean: %.4f' % (epoch, num_epoch, errD.item(), D_x, D_G_z1))\n",
    "\n",
    "\n",
    "\n"
   ]
  },
  {
   "cell_type": "code",
   "execution_count": null,
   "id": "6d66d1cb-11f3-4fbf-a106-83bfd3b4e19e",
   "metadata": {},
   "outputs": [],
   "source": []
  },
  {
   "cell_type": "markdown",
   "id": "2c74a239-791f-4cb3-b032-aa78e6c94299",
   "metadata": {},
   "source": [
    "### train generator"
   ]
  },
  {
   "cell_type": "code",
   "execution_count": 80,
   "id": "9cfd49d8-7f41-41f4-ad98-1ba5738b53b7",
   "metadata": {},
   "outputs": [
    {
     "name": "stdout",
     "output_type": "stream",
     "text": [
      "[0/50]\tLoss_G: 0.1706\tFake mean: 0.8473\n",
      "[5/50]\tLoss_G: 0.1655\tFake mean: 0.8515\n",
      "[10/50]\tLoss_G: 0.1581\tFake mean: 0.8575\n",
      "[15/50]\tLoss_G: 0.1531\tFake mean: 0.8612\n",
      "[20/50]\tLoss_G: 0.1547\tFake mean: 0.8601\n",
      "[25/50]\tLoss_G: 0.1470\tFake mean: 0.8667\n",
      "[30/50]\tLoss_G: 0.1449\tFake mean: 0.8685\n",
      "[35/50]\tLoss_G: 0.1397\tFake mean: 0.8726\n",
      "[40/50]\tLoss_G: 0.1328\tFake mean: 0.8782\n",
      "[45/50]\tLoss_G: 0.1340\tFake mean: 0.8776\n"
     ]
    }
   ],
   "source": [
    "for epoch in range(num_epoch):\n",
    "    for i, data in enumerate(train_dataloader, 0):\n",
    "\n",
    "        netG.zero_grad()\n",
    "        \n",
    "        noise = torch.randn(size, noise_len, device=device)\n",
    "        fake = netG(noise)\n",
    "        output = netD(fake)\n",
    "        \n",
    "        errG = criterion(output, real_label)\n",
    "        errG.backward()\n",
    "        \n",
    "        D_G_z2 = output.mean().item()\n",
    "        optimizerG.step()\n",
    "\n",
    "        G_losses.append(errG.item())\n",
    "\n",
    "    if epoch % 5 == 0:\n",
    "        print('[%d/%d]\\tLoss_G: %.4f\\tFake mean: %.4f' % (epoch, num_epoch, errG.item(), D_G_z2))\n",
    "\n",
    "\n",
    "\n"
   ]
  },
  {
   "cell_type": "markdown",
   "id": "5abd6dd4-c2e7-4ecb-af03-f5d56f75d343",
   "metadata": {},
   "source": [
    "## generate "
   ]
  },
  {
   "cell_type": "code",
   "execution_count": 81,
   "id": "3fb96d47-536b-4276-88a4-fb58ecf93a8c",
   "metadata": {},
   "outputs": [
    {
     "data": {
      "text/html": [
       "<div>\n",
       "<style scoped>\n",
       "    .dataframe tbody tr th:only-of-type {\n",
       "        vertical-align: middle;\n",
       "    }\n",
       "\n",
       "    .dataframe tbody tr th {\n",
       "        vertical-align: top;\n",
       "    }\n",
       "\n",
       "    .dataframe thead th {\n",
       "        text-align: right;\n",
       "    }\n",
       "</style>\n",
       "<table border=\"1\" class=\"dataframe\">\n",
       "  <thead>\n",
       "    <tr style=\"text-align: right;\">\n",
       "      <th></th>\n",
       "      <th>0</th>\n",
       "      <th>1</th>\n",
       "      <th>2</th>\n",
       "      <th>3</th>\n",
       "      <th>4</th>\n",
       "      <th>5</th>\n",
       "      <th>6</th>\n",
       "      <th>7</th>\n",
       "      <th>8</th>\n",
       "      <th>9</th>\n",
       "      <th>10</th>\n",
       "      <th>11</th>\n",
       "    </tr>\n",
       "  </thead>\n",
       "  <tbody>\n",
       "    <tr>\n",
       "      <th>0</th>\n",
       "      <td>9.899</td>\n",
       "      <td>0.231</td>\n",
       "      <td>0.474</td>\n",
       "      <td>1.525</td>\n",
       "      <td>0.044</td>\n",
       "      <td>4.667</td>\n",
       "      <td>19.868</td>\n",
       "      <td>0.996</td>\n",
       "      <td>3.087</td>\n",
       "      <td>0.480</td>\n",
       "      <td>8.719</td>\n",
       "      <td>5.794</td>\n",
       "    </tr>\n",
       "    <tr>\n",
       "      <th>1</th>\n",
       "      <td>9.633</td>\n",
       "      <td>0.225</td>\n",
       "      <td>0.595</td>\n",
       "      <td>3.744</td>\n",
       "      <td>0.033</td>\n",
       "      <td>-2.639</td>\n",
       "      <td>35.786</td>\n",
       "      <td>0.997</td>\n",
       "      <td>3.144</td>\n",
       "      <td>0.702</td>\n",
       "      <td>10.944</td>\n",
       "      <td>7.410</td>\n",
       "    </tr>\n",
       "    <tr>\n",
       "      <th>2</th>\n",
       "      <td>6.490</td>\n",
       "      <td>0.708</td>\n",
       "      <td>0.008</td>\n",
       "      <td>2.624</td>\n",
       "      <td>0.102</td>\n",
       "      <td>17.468</td>\n",
       "      <td>56.132</td>\n",
       "      <td>0.996</td>\n",
       "      <td>3.574</td>\n",
       "      <td>0.838</td>\n",
       "      <td>12.695</td>\n",
       "      <td>5.342</td>\n",
       "    </tr>\n",
       "    <tr>\n",
       "      <th>3</th>\n",
       "      <td>10.757</td>\n",
       "      <td>0.252</td>\n",
       "      <td>0.647</td>\n",
       "      <td>3.084</td>\n",
       "      <td>0.032</td>\n",
       "      <td>8.777</td>\n",
       "      <td>34.827</td>\n",
       "      <td>0.998</td>\n",
       "      <td>3.063</td>\n",
       "      <td>0.570</td>\n",
       "      <td>9.009</td>\n",
       "      <td>7.043</td>\n",
       "    </tr>\n",
       "    <tr>\n",
       "      <th>4</th>\n",
       "      <td>10.852</td>\n",
       "      <td>0.424</td>\n",
       "      <td>0.553</td>\n",
       "      <td>2.953</td>\n",
       "      <td>0.052</td>\n",
       "      <td>17.645</td>\n",
       "      <td>46.414</td>\n",
       "      <td>0.999</td>\n",
       "      <td>3.128</td>\n",
       "      <td>0.588</td>\n",
       "      <td>9.266</td>\n",
       "      <td>6.532</td>\n",
       "    </tr>\n",
       "    <tr>\n",
       "      <th>5</th>\n",
       "      <td>6.198</td>\n",
       "      <td>0.618</td>\n",
       "      <td>-0.028</td>\n",
       "      <td>0.890</td>\n",
       "      <td>0.109</td>\n",
       "      <td>16.510</td>\n",
       "      <td>33.967</td>\n",
       "      <td>0.995</td>\n",
       "      <td>3.486</td>\n",
       "      <td>0.646</td>\n",
       "      <td>10.926</td>\n",
       "      <td>4.655</td>\n",
       "    </tr>\n",
       "    <tr>\n",
       "      <th>6</th>\n",
       "      <td>8.709</td>\n",
       "      <td>0.353</td>\n",
       "      <td>0.385</td>\n",
       "      <td>2.832</td>\n",
       "      <td>0.055</td>\n",
       "      <td>2.099</td>\n",
       "      <td>28.937</td>\n",
       "      <td>0.996</td>\n",
       "      <td>3.242</td>\n",
       "      <td>0.658</td>\n",
       "      <td>10.880</td>\n",
       "      <td>6.352</td>\n",
       "    </tr>\n",
       "  </tbody>\n",
       "</table>\n",
       "</div>"
      ],
      "text/plain": [
       "       0      1      2      3      4       5       6      7      8      9   \\\n",
       "0   9.899  0.231  0.474  1.525  0.044   4.667  19.868  0.996  3.087  0.480   \n",
       "1   9.633  0.225  0.595  3.744  0.033  -2.639  35.786  0.997  3.144  0.702   \n",
       "2   6.490  0.708  0.008  2.624  0.102  17.468  56.132  0.996  3.574  0.838   \n",
       "3  10.757  0.252  0.647  3.084  0.032   8.777  34.827  0.998  3.063  0.570   \n",
       "4  10.852  0.424  0.553  2.953  0.052  17.645  46.414  0.999  3.128  0.588   \n",
       "5   6.198  0.618 -0.028  0.890  0.109  16.510  33.967  0.995  3.486  0.646   \n",
       "6   8.709  0.353  0.385  2.832  0.055   2.099  28.937  0.996  3.242  0.658   \n",
       "\n",
       "       10     11  \n",
       "0   8.719  5.794  \n",
       "1  10.944  7.410  \n",
       "2  12.695  5.342  \n",
       "3   9.009  7.043  \n",
       "4   9.266  6.532  \n",
       "5  10.926  4.655  \n",
       "6  10.880  6.352  "
      ]
     },
     "execution_count": 81,
     "metadata": {},
     "output_type": "execute_result"
    }
   ],
   "source": [
    "\n",
    "with torch.no_grad():\n",
    "    noise = torch.randn(2000, noise_len, device=device)\n",
    "    fake = netG(noise).cpu()\n",
    "    fake = scaler.inverse_transform(fake)\n",
    "\n",
    "fake = pd.DataFrame(fake).round(3)\n",
    "fake.head(7)\n"
   ]
  },
  {
   "cell_type": "code",
   "execution_count": 539,
   "id": "95cf5000-aaf8-4975-ac82-148d62a320ea",
   "metadata": {},
   "outputs": [
    {
     "data": {
      "text/html": [
       "<div>\n",
       "<style scoped>\n",
       "    .dataframe tbody tr th:only-of-type {\n",
       "        vertical-align: middle;\n",
       "    }\n",
       "\n",
       "    .dataframe tbody tr th {\n",
       "        vertical-align: top;\n",
       "    }\n",
       "\n",
       "    .dataframe thead th {\n",
       "        text-align: right;\n",
       "    }\n",
       "</style>\n",
       "<table border=\"1\" class=\"dataframe\">\n",
       "  <thead>\n",
       "    <tr style=\"text-align: right;\">\n",
       "      <th></th>\n",
       "      <th>0</th>\n",
       "      <th>1</th>\n",
       "      <th>2</th>\n",
       "      <th>3</th>\n",
       "      <th>4</th>\n",
       "      <th>5</th>\n",
       "      <th>6</th>\n",
       "      <th>7</th>\n",
       "      <th>8</th>\n",
       "      <th>9</th>\n",
       "      <th>10</th>\n",
       "      <th>11</th>\n",
       "    </tr>\n",
       "  </thead>\n",
       "  <tbody>\n",
       "    <tr>\n",
       "      <th>0</th>\n",
       "      <td>7.8</td>\n",
       "      <td>0.500</td>\n",
       "      <td>0.17</td>\n",
       "      <td>1.6</td>\n",
       "      <td>0.082</td>\n",
       "      <td>21.0</td>\n",
       "      <td>102.0</td>\n",
       "      <td>0.996</td>\n",
       "      <td>3.39</td>\n",
       "      <td>0.48</td>\n",
       "      <td>9.5</td>\n",
       "      <td>5.0</td>\n",
       "    </tr>\n",
       "    <tr>\n",
       "      <th>1</th>\n",
       "      <td>7.6</td>\n",
       "      <td>0.290</td>\n",
       "      <td>0.49</td>\n",
       "      <td>2.7</td>\n",
       "      <td>0.092</td>\n",
       "      <td>25.0</td>\n",
       "      <td>60.0</td>\n",
       "      <td>0.997</td>\n",
       "      <td>3.31</td>\n",
       "      <td>0.61</td>\n",
       "      <td>10.1</td>\n",
       "      <td>6.0</td>\n",
       "    </tr>\n",
       "    <tr>\n",
       "      <th>2</th>\n",
       "      <td>6.9</td>\n",
       "      <td>0.400</td>\n",
       "      <td>0.24</td>\n",
       "      <td>2.5</td>\n",
       "      <td>0.083</td>\n",
       "      <td>30.0</td>\n",
       "      <td>45.0</td>\n",
       "      <td>0.996</td>\n",
       "      <td>3.26</td>\n",
       "      <td>0.58</td>\n",
       "      <td>10.0</td>\n",
       "      <td>5.0</td>\n",
       "    </tr>\n",
       "    <tr>\n",
       "      <th>3</th>\n",
       "      <td>8.9</td>\n",
       "      <td>0.635</td>\n",
       "      <td>0.37</td>\n",
       "      <td>1.7</td>\n",
       "      <td>0.263</td>\n",
       "      <td>5.0</td>\n",
       "      <td>62.0</td>\n",
       "      <td>0.997</td>\n",
       "      <td>3.00</td>\n",
       "      <td>1.09</td>\n",
       "      <td>9.3</td>\n",
       "      <td>5.0</td>\n",
       "    </tr>\n",
       "    <tr>\n",
       "      <th>4</th>\n",
       "      <td>9.4</td>\n",
       "      <td>0.300</td>\n",
       "      <td>0.56</td>\n",
       "      <td>2.8</td>\n",
       "      <td>0.080</td>\n",
       "      <td>6.0</td>\n",
       "      <td>17.0</td>\n",
       "      <td>0.996</td>\n",
       "      <td>3.15</td>\n",
       "      <td>0.92</td>\n",
       "      <td>11.7</td>\n",
       "      <td>8.0</td>\n",
       "    </tr>\n",
       "    <tr>\n",
       "      <th>5</th>\n",
       "      <td>8.0</td>\n",
       "      <td>0.710</td>\n",
       "      <td>0.00</td>\n",
       "      <td>2.6</td>\n",
       "      <td>0.080</td>\n",
       "      <td>11.0</td>\n",
       "      <td>34.0</td>\n",
       "      <td>0.998</td>\n",
       "      <td>3.44</td>\n",
       "      <td>0.53</td>\n",
       "      <td>9.5</td>\n",
       "      <td>5.0</td>\n",
       "    </tr>\n",
       "    <tr>\n",
       "      <th>6</th>\n",
       "      <td>7.8</td>\n",
       "      <td>0.410</td>\n",
       "      <td>0.68</td>\n",
       "      <td>1.7</td>\n",
       "      <td>0.467</td>\n",
       "      <td>18.0</td>\n",
       "      <td>69.0</td>\n",
       "      <td>0.997</td>\n",
       "      <td>3.08</td>\n",
       "      <td>1.31</td>\n",
       "      <td>9.3</td>\n",
       "      <td>5.0</td>\n",
       "    </tr>\n",
       "    <tr>\n",
       "      <th>7</th>\n",
       "      <td>8.4</td>\n",
       "      <td>0.340</td>\n",
       "      <td>0.42</td>\n",
       "      <td>2.1</td>\n",
       "      <td>0.072</td>\n",
       "      <td>23.0</td>\n",
       "      <td>36.0</td>\n",
       "      <td>0.994</td>\n",
       "      <td>3.11</td>\n",
       "      <td>0.78</td>\n",
       "      <td>12.4</td>\n",
       "      <td>6.0</td>\n",
       "    </tr>\n",
       "    <tr>\n",
       "      <th>8</th>\n",
       "      <td>6.3</td>\n",
       "      <td>0.760</td>\n",
       "      <td>0.00</td>\n",
       "      <td>2.9</td>\n",
       "      <td>0.072</td>\n",
       "      <td>26.0</td>\n",
       "      <td>52.0</td>\n",
       "      <td>0.994</td>\n",
       "      <td>3.51</td>\n",
       "      <td>0.60</td>\n",
       "      <td>11.5</td>\n",
       "      <td>6.0</td>\n",
       "    </tr>\n",
       "    <tr>\n",
       "      <th>9</th>\n",
       "      <td>7.7</td>\n",
       "      <td>0.835</td>\n",
       "      <td>0.00</td>\n",
       "      <td>2.6</td>\n",
       "      <td>0.081</td>\n",
       "      <td>6.0</td>\n",
       "      <td>14.0</td>\n",
       "      <td>0.998</td>\n",
       "      <td>3.30</td>\n",
       "      <td>0.52</td>\n",
       "      <td>9.3</td>\n",
       "      <td>5.0</td>\n",
       "    </tr>\n",
       "    <tr>\n",
       "      <th>10</th>\n",
       "      <td>6.4</td>\n",
       "      <td>0.470</td>\n",
       "      <td>0.40</td>\n",
       "      <td>2.4</td>\n",
       "      <td>0.071</td>\n",
       "      <td>8.0</td>\n",
       "      <td>19.0</td>\n",
       "      <td>0.996</td>\n",
       "      <td>3.56</td>\n",
       "      <td>0.73</td>\n",
       "      <td>10.6</td>\n",
       "      <td>6.0</td>\n",
       "    </tr>\n",
       "    <tr>\n",
       "      <th>11</th>\n",
       "      <td>8.7</td>\n",
       "      <td>0.765</td>\n",
       "      <td>0.22</td>\n",
       "      <td>2.3</td>\n",
       "      <td>0.064</td>\n",
       "      <td>9.0</td>\n",
       "      <td>42.0</td>\n",
       "      <td>0.996</td>\n",
       "      <td>3.10</td>\n",
       "      <td>0.55</td>\n",
       "      <td>9.4</td>\n",
       "      <td>5.0</td>\n",
       "    </tr>\n",
       "    <tr>\n",
       "      <th>12</th>\n",
       "      <td>8.5</td>\n",
       "      <td>0.210</td>\n",
       "      <td>0.52</td>\n",
       "      <td>1.9</td>\n",
       "      <td>0.090</td>\n",
       "      <td>9.0</td>\n",
       "      <td>23.0</td>\n",
       "      <td>0.996</td>\n",
       "      <td>3.36</td>\n",
       "      <td>0.67</td>\n",
       "      <td>10.4</td>\n",
       "      <td>5.0</td>\n",
       "    </tr>\n",
       "    <tr>\n",
       "      <th>13</th>\n",
       "      <td>7.7</td>\n",
       "      <td>0.540</td>\n",
       "      <td>0.26</td>\n",
       "      <td>1.9</td>\n",
       "      <td>0.089</td>\n",
       "      <td>23.0</td>\n",
       "      <td>147.0</td>\n",
       "      <td>0.996</td>\n",
       "      <td>3.26</td>\n",
       "      <td>0.59</td>\n",
       "      <td>9.7</td>\n",
       "      <td>5.0</td>\n",
       "    </tr>\n",
       "    <tr>\n",
       "      <th>14</th>\n",
       "      <td>7.0</td>\n",
       "      <td>0.600</td>\n",
       "      <td>0.30</td>\n",
       "      <td>4.5</td>\n",
       "      <td>0.068</td>\n",
       "      <td>20.0</td>\n",
       "      <td>110.0</td>\n",
       "      <td>0.999</td>\n",
       "      <td>3.30</td>\n",
       "      <td>1.17</td>\n",
       "      <td>10.2</td>\n",
       "      <td>5.0</td>\n",
       "    </tr>\n",
       "    <tr>\n",
       "      <th>15</th>\n",
       "      <td>7.5</td>\n",
       "      <td>0.650</td>\n",
       "      <td>0.18</td>\n",
       "      <td>7.0</td>\n",
       "      <td>0.088</td>\n",
       "      <td>27.0</td>\n",
       "      <td>94.0</td>\n",
       "      <td>0.999</td>\n",
       "      <td>3.38</td>\n",
       "      <td>0.77</td>\n",
       "      <td>9.4</td>\n",
       "      <td>5.0</td>\n",
       "    </tr>\n",
       "    <tr>\n",
       "      <th>16</th>\n",
       "      <td>10.0</td>\n",
       "      <td>0.350</td>\n",
       "      <td>0.47</td>\n",
       "      <td>2.0</td>\n",
       "      <td>0.061</td>\n",
       "      <td>6.0</td>\n",
       "      <td>11.0</td>\n",
       "      <td>0.996</td>\n",
       "      <td>3.23</td>\n",
       "      <td>0.52</td>\n",
       "      <td>12.0</td>\n",
       "      <td>6.0</td>\n",
       "    </tr>\n",
       "    <tr>\n",
       "      <th>17</th>\n",
       "      <td>7.7</td>\n",
       "      <td>0.260</td>\n",
       "      <td>0.26</td>\n",
       "      <td>2.0</td>\n",
       "      <td>0.052</td>\n",
       "      <td>19.0</td>\n",
       "      <td>77.0</td>\n",
       "      <td>0.995</td>\n",
       "      <td>3.15</td>\n",
       "      <td>0.79</td>\n",
       "      <td>10.9</td>\n",
       "      <td>6.0</td>\n",
       "    </tr>\n",
       "    <tr>\n",
       "      <th>18</th>\n",
       "      <td>8.2</td>\n",
       "      <td>0.330</td>\n",
       "      <td>0.32</td>\n",
       "      <td>2.8</td>\n",
       "      <td>0.067</td>\n",
       "      <td>4.0</td>\n",
       "      <td>12.0</td>\n",
       "      <td>0.995</td>\n",
       "      <td>3.30</td>\n",
       "      <td>0.76</td>\n",
       "      <td>12.8</td>\n",
       "      <td>7.0</td>\n",
       "    </tr>\n",
       "    <tr>\n",
       "      <th>19</th>\n",
       "      <td>9.7</td>\n",
       "      <td>0.310</td>\n",
       "      <td>0.47</td>\n",
       "      <td>1.6</td>\n",
       "      <td>0.062</td>\n",
       "      <td>13.0</td>\n",
       "      <td>33.0</td>\n",
       "      <td>0.998</td>\n",
       "      <td>3.27</td>\n",
       "      <td>0.66</td>\n",
       "      <td>10.0</td>\n",
       "      <td>6.0</td>\n",
       "    </tr>\n",
       "  </tbody>\n",
       "</table>\n",
       "</div>"
      ],
      "text/plain": [
       "      0      1     2    3      4     5      6      7     8     9     10   11\n",
       "0    7.8  0.500  0.17  1.6  0.082  21.0  102.0  0.996  3.39  0.48   9.5  5.0\n",
       "1    7.6  0.290  0.49  2.7  0.092  25.0   60.0  0.997  3.31  0.61  10.1  6.0\n",
       "2    6.9  0.400  0.24  2.5  0.083  30.0   45.0  0.996  3.26  0.58  10.0  5.0\n",
       "3    8.9  0.635  0.37  1.7  0.263   5.0   62.0  0.997  3.00  1.09   9.3  5.0\n",
       "4    9.4  0.300  0.56  2.8  0.080   6.0   17.0  0.996  3.15  0.92  11.7  8.0\n",
       "5    8.0  0.710  0.00  2.6  0.080  11.0   34.0  0.998  3.44  0.53   9.5  5.0\n",
       "6    7.8  0.410  0.68  1.7  0.467  18.0   69.0  0.997  3.08  1.31   9.3  5.0\n",
       "7    8.4  0.340  0.42  2.1  0.072  23.0   36.0  0.994  3.11  0.78  12.4  6.0\n",
       "8    6.3  0.760  0.00  2.9  0.072  26.0   52.0  0.994  3.51  0.60  11.5  6.0\n",
       "9    7.7  0.835  0.00  2.6  0.081   6.0   14.0  0.998  3.30  0.52   9.3  5.0\n",
       "10   6.4  0.470  0.40  2.4  0.071   8.0   19.0  0.996  3.56  0.73  10.6  6.0\n",
       "11   8.7  0.765  0.22  2.3  0.064   9.0   42.0  0.996  3.10  0.55   9.4  5.0\n",
       "12   8.5  0.210  0.52  1.9  0.090   9.0   23.0  0.996  3.36  0.67  10.4  5.0\n",
       "13   7.7  0.540  0.26  1.9  0.089  23.0  147.0  0.996  3.26  0.59   9.7  5.0\n",
       "14   7.0  0.600  0.30  4.5  0.068  20.0  110.0  0.999  3.30  1.17  10.2  5.0\n",
       "15   7.5  0.650  0.18  7.0  0.088  27.0   94.0  0.999  3.38  0.77   9.4  5.0\n",
       "16  10.0  0.350  0.47  2.0  0.061   6.0   11.0  0.996  3.23  0.52  12.0  6.0\n",
       "17   7.7  0.260  0.26  2.0  0.052  19.0   77.0  0.995  3.15  0.79  10.9  6.0\n",
       "18   8.2  0.330  0.32  2.8  0.067   4.0   12.0  0.995  3.30  0.76  12.8  7.0\n",
       "19   9.7  0.310  0.47  1.6  0.062  13.0   33.0  0.998  3.27  0.66  10.0  6.0"
      ]
     },
     "execution_count": 539,
     "metadata": {},
     "output_type": "execute_result"
    }
   ],
   "source": [
    "pd.DataFrame(train.values.round(3)).head(20)"
   ]
  },
  {
   "cell_type": "code",
   "execution_count": null,
   "id": "282aa890-aa77-4619-ba7e-1aad3f50548a",
   "metadata": {},
   "outputs": [],
   "source": []
  },
  {
   "cell_type": "markdown",
   "id": "28b1c73c-c254-48ad-94ac-76e420ef02e4",
   "metadata": {},
   "source": [
    "## save model"
   ]
  },
  {
   "cell_type": "code",
   "execution_count": 1820,
   "id": "b68dcecb-f0ef-46f3-8391-186e72bf0d3d",
   "metadata": {},
   "outputs": [],
   "source": [
    "torch.save(netD.state_dict(), './model/netD.pt')\n",
    "torch.save(netG.state_dict(), './model/netG.pt')"
   ]
  },
  {
   "cell_type": "markdown",
   "id": "0bd82602-3e4b-4f88-bd30-438125c6c7a6",
   "metadata": {},
   "source": [
    "## load model"
   ]
  },
  {
   "cell_type": "code",
   "execution_count": 12,
   "id": "fc5f7a4f-1945-4f04-9f5c-a98b50aa1f2a",
   "metadata": {},
   "outputs": [
    {
     "data": {
      "text/plain": [
       "<All keys matched successfully>"
      ]
     },
     "execution_count": 12,
     "metadata": {},
     "output_type": "execute_result"
    }
   ],
   "source": [
    "netD = Discriminator().to(device)\n",
    "netD.load_state_dict(torch.load('./model/netD.pt'))\n",
    "\n",
    "netG = Generator().to(device)\n",
    "netG.load_state_dict(torch.load('./model/netG.pt'))"
   ]
  },
  {
   "cell_type": "code",
   "execution_count": null,
   "id": "5b73434c-bc32-4cc7-9382-f8e503ab5dfb",
   "metadata": {},
   "outputs": [],
   "source": []
  },
  {
   "cell_type": "code",
   "execution_count": null,
   "id": "ac970179-f1f2-474a-a5a1-9eabace3a0a7",
   "metadata": {},
   "outputs": [],
   "source": []
  },
  {
   "cell_type": "code",
   "execution_count": 93,
   "id": "4c1b705a-617c-4eef-a5d1-1d9503430799",
   "metadata": {},
   "outputs": [],
   "source": [
    "import pandas as pd\n",
    "import numpy as np\n",
    "from sklearn.pipeline import make_pipeline\n",
    "from sklearn.preprocessing import StandardScaler\n",
    "from sklearn.svm import SVC\n",
    "from sklearn.metrics import confusion_matrix\n",
    "from sklearn.metrics import roc_auc_score\n",
    "from sklearn.metrics import accuracy_score\n",
    "import seaborn as sns\n",
    "from sklearn.linear_model import LogisticRegression\n",
    "import matplotlib.pyplot as plt"
   ]
  },
  {
   "cell_type": "code",
   "execution_count": null,
   "id": "6bf0d59c-ed42-4967-a82a-b83415800a0e",
   "metadata": {},
   "outputs": [],
   "source": []
  },
  {
   "cell_type": "code",
   "execution_count": null,
   "id": "084386b7-1cef-4760-b162-0746ff2754b4",
   "metadata": {},
   "outputs": [],
   "source": []
  },
  {
   "cell_type": "code",
   "execution_count": 82,
   "id": "417b5453-ab3c-4e0f-bfc7-97539abfd446",
   "metadata": {},
   "outputs": [],
   "source": [
    "X_fake = fake.iloc[:, 0:11]\n",
    "y_fake = fake.iloc[:, 11].round().clip(3, 8)"
   ]
  },
  {
   "cell_type": "code",
   "execution_count": 83,
   "id": "dd41b257-4d01-473d-b3f7-7796f760f164",
   "metadata": {},
   "outputs": [],
   "source": [
    "X_aug = np.concatenate((X_fake.values, X_train.values))\n",
    "y_aug = np.concatenate((y_fake, y_train))"
   ]
  },
  {
   "cell_type": "code",
   "execution_count": 84,
   "id": "c94485a6-ef4e-43e8-a599-7d0bc8b07a94",
   "metadata": {},
   "outputs": [
    {
     "data": {
      "text/plain": [
       "(2959, 11)"
      ]
     },
     "execution_count": 84,
     "metadata": {},
     "output_type": "execute_result"
    }
   ],
   "source": [
    "X_aug.shape"
   ]
  },
  {
   "cell_type": "code",
   "execution_count": null,
   "id": "0042f231-8bc7-4f4d-9924-132d81a2cd81",
   "metadata": {},
   "outputs": [],
   "source": []
  },
  {
   "cell_type": "code",
   "execution_count": 90,
   "id": "c739f779-12ce-45a5-9dd4-c76eb2334811",
   "metadata": {},
   "outputs": [
    {
     "data": {
      "text/html": [
       "<style>#sk-container-id-5 {color: black;}#sk-container-id-5 pre{padding: 0;}#sk-container-id-5 div.sk-toggleable {background-color: white;}#sk-container-id-5 label.sk-toggleable__label {cursor: pointer;display: block;width: 100%;margin-bottom: 0;padding: 0.3em;box-sizing: border-box;text-align: center;}#sk-container-id-5 label.sk-toggleable__label-arrow:before {content: \"▸\";float: left;margin-right: 0.25em;color: #696969;}#sk-container-id-5 label.sk-toggleable__label-arrow:hover:before {color: black;}#sk-container-id-5 div.sk-estimator:hover label.sk-toggleable__label-arrow:before {color: black;}#sk-container-id-5 div.sk-toggleable__content {max-height: 0;max-width: 0;overflow: hidden;text-align: left;background-color: #f0f8ff;}#sk-container-id-5 div.sk-toggleable__content pre {margin: 0.2em;color: black;border-radius: 0.25em;background-color: #f0f8ff;}#sk-container-id-5 input.sk-toggleable__control:checked~div.sk-toggleable__content {max-height: 200px;max-width: 100%;overflow: auto;}#sk-container-id-5 input.sk-toggleable__control:checked~label.sk-toggleable__label-arrow:before {content: \"▾\";}#sk-container-id-5 div.sk-estimator input.sk-toggleable__control:checked~label.sk-toggleable__label {background-color: #d4ebff;}#sk-container-id-5 div.sk-label input.sk-toggleable__control:checked~label.sk-toggleable__label {background-color: #d4ebff;}#sk-container-id-5 input.sk-hidden--visually {border: 0;clip: rect(1px 1px 1px 1px);clip: rect(1px, 1px, 1px, 1px);height: 1px;margin: -1px;overflow: hidden;padding: 0;position: absolute;width: 1px;}#sk-container-id-5 div.sk-estimator {font-family: monospace;background-color: #f0f8ff;border: 1px dotted black;border-radius: 0.25em;box-sizing: border-box;margin-bottom: 0.5em;}#sk-container-id-5 div.sk-estimator:hover {background-color: #d4ebff;}#sk-container-id-5 div.sk-parallel-item::after {content: \"\";width: 100%;border-bottom: 1px solid gray;flex-grow: 1;}#sk-container-id-5 div.sk-label:hover label.sk-toggleable__label {background-color: #d4ebff;}#sk-container-id-5 div.sk-serial::before {content: \"\";position: absolute;border-left: 1px solid gray;box-sizing: border-box;top: 0;bottom: 0;left: 50%;z-index: 0;}#sk-container-id-5 div.sk-serial {display: flex;flex-direction: column;align-items: center;background-color: white;padding-right: 0.2em;padding-left: 0.2em;position: relative;}#sk-container-id-5 div.sk-item {position: relative;z-index: 1;}#sk-container-id-5 div.sk-parallel {display: flex;align-items: stretch;justify-content: center;background-color: white;position: relative;}#sk-container-id-5 div.sk-item::before, #sk-container-id-5 div.sk-parallel-item::before {content: \"\";position: absolute;border-left: 1px solid gray;box-sizing: border-box;top: 0;bottom: 0;left: 50%;z-index: -1;}#sk-container-id-5 div.sk-parallel-item {display: flex;flex-direction: column;z-index: 1;position: relative;background-color: white;}#sk-container-id-5 div.sk-parallel-item:first-child::after {align-self: flex-end;width: 50%;}#sk-container-id-5 div.sk-parallel-item:last-child::after {align-self: flex-start;width: 50%;}#sk-container-id-5 div.sk-parallel-item:only-child::after {width: 0;}#sk-container-id-5 div.sk-dashed-wrapped {border: 1px dashed gray;margin: 0 0.4em 0.5em 0.4em;box-sizing: border-box;padding-bottom: 0.4em;background-color: white;}#sk-container-id-5 div.sk-label label {font-family: monospace;font-weight: bold;display: inline-block;line-height: 1.2em;}#sk-container-id-5 div.sk-label-container {text-align: center;}#sk-container-id-5 div.sk-container {/* jupyter's `normalize.less` sets `[hidden] { display: none; }` but bootstrap.min.css set `[hidden] { display: none !important; }` so we also need the `!important` here to be able to override the default hidden behavior on the sphinx rendered scikit-learn.org. See: https://github.com/scikit-learn/scikit-learn/issues/21755 */display: inline-block !important;position: relative;}#sk-container-id-5 div.sk-text-repr-fallback {display: none;}</style><div id=\"sk-container-id-5\" class=\"sk-top-container\"><div class=\"sk-text-repr-fallback\"><pre>Pipeline(steps=[(&#x27;standardscaler&#x27;, StandardScaler()),\n",
       "                (&#x27;logisticregression&#x27;,\n",
       "                 LogisticRegression(max_iter=6000, random_state=16))])</pre><b>In a Jupyter environment, please rerun this cell to show the HTML representation or trust the notebook. <br />On GitHub, the HTML representation is unable to render, please try loading this page with nbviewer.org.</b></div><div class=\"sk-container\" hidden><div class=\"sk-item sk-dashed-wrapped\"><div class=\"sk-label-container\"><div class=\"sk-label sk-toggleable\"><input class=\"sk-toggleable__control sk-hidden--visually\" id=\"sk-estimator-id-13\" type=\"checkbox\" ><label for=\"sk-estimator-id-13\" class=\"sk-toggleable__label sk-toggleable__label-arrow\">Pipeline</label><div class=\"sk-toggleable__content\"><pre>Pipeline(steps=[(&#x27;standardscaler&#x27;, StandardScaler()),\n",
       "                (&#x27;logisticregression&#x27;,\n",
       "                 LogisticRegression(max_iter=6000, random_state=16))])</pre></div></div></div><div class=\"sk-serial\"><div class=\"sk-item\"><div class=\"sk-estimator sk-toggleable\"><input class=\"sk-toggleable__control sk-hidden--visually\" id=\"sk-estimator-id-14\" type=\"checkbox\" ><label for=\"sk-estimator-id-14\" class=\"sk-toggleable__label sk-toggleable__label-arrow\">StandardScaler</label><div class=\"sk-toggleable__content\"><pre>StandardScaler()</pre></div></div></div><div class=\"sk-item\"><div class=\"sk-estimator sk-toggleable\"><input class=\"sk-toggleable__control sk-hidden--visually\" id=\"sk-estimator-id-15\" type=\"checkbox\" ><label for=\"sk-estimator-id-15\" class=\"sk-toggleable__label sk-toggleable__label-arrow\">LogisticRegression</label><div class=\"sk-toggleable__content\"><pre>LogisticRegression(max_iter=6000, random_state=16)</pre></div></div></div></div></div></div></div>"
      ],
      "text/plain": [
       "Pipeline(steps=[('standardscaler', StandardScaler()),\n",
       "                ('logisticregression',\n",
       "                 LogisticRegression(max_iter=6000, random_state=16))])"
      ]
     },
     "execution_count": 90,
     "metadata": {},
     "output_type": "execute_result"
    }
   ],
   "source": [
    "clf = make_pipeline(StandardScaler(), SVC(gamma='auto', probability=True))\n",
    "clf.fit(X_aug, y_aug)\n",
    "\n",
    "logreg = make_pipeline(StandardScaler(), LogisticRegression(random_state=16, max_iter=6000))\n",
    "logreg.fit(X_aug, y_aug)"
   ]
  },
  {
   "cell_type": "code",
   "execution_count": 86,
   "id": "2de12885-01b2-4972-a3ad-b7a4273710d1",
   "metadata": {},
   "outputs": [],
   "source": [
    "X_train = pd.read_csv('./data/X_train.csv')\n",
    "y_train = pd.read_csv('./data/y_train.csv')['quality'].values\n",
    "X_test = pd.read_csv('./data/X_test.csv')\n",
    "y_test = pd.read_csv('./data/y_test.csv')['quality'].values"
   ]
  },
  {
   "cell_type": "code",
   "execution_count": 94,
   "id": "b40e0401-fd0a-4705-8e55-68e14eb5879a",
   "metadata": {},
   "outputs": [
    {
     "name": "stderr",
     "output_type": "stream",
     "text": [
      "D:\\Anaconda\\anaconda\\Lib\\site-packages\\sklearn\\base.py:457: UserWarning: X has feature names, but StandardScaler was fitted without feature names\n",
      "  warnings.warn(\n",
      "D:\\Anaconda\\anaconda\\Lib\\site-packages\\sklearn\\base.py:457: UserWarning: X has feature names, but StandardScaler was fitted without feature names\n",
      "  warnings.warn(\n",
      "D:\\Anaconda\\anaconda\\Lib\\site-packages\\sklearn\\base.py:457: UserWarning: X has feature names, but StandardScaler was fitted without feature names\n",
      "  warnings.warn(\n",
      "D:\\Anaconda\\anaconda\\Lib\\site-packages\\sklearn\\base.py:457: UserWarning: X has feature names, but StandardScaler was fitted without feature names\n",
      "  warnings.warn(\n"
     ]
    },
    {
     "name": "stdout",
     "output_type": "stream",
     "text": [
      "auc: 0.7973310463993849\n",
      "accuracy: 0.59375\n"
     ]
    },
    {
     "data": {
      "image/png": "[encoded data removed]",
      "text/plain": [
       "<Figure size 640x480 with 2 Axes>"
      ]
     },
     "metadata": {},
     "output_type": "display_data"
    },
    {
     "name": "stdout",
     "output_type": "stream",
     "text": [
      "log auc: 0.7700614976151389\n",
      "log accuracy: 0.525\n"
     ]
    },
    {
     "data": {
      "image/png": "[encoded data removed]",
      "text/plain": [
       "<Figure size 640x480 with 2 Axes>"
      ]
     },
     "metadata": {},
     "output_type": "display_data"
    }
   ],
   "source": [
    "y_test_predict = clf.predict(X_test)\n",
    "y_test_pred_prob = clf.predict_proba(X_test)\n",
    "\n",
    "y_test_predict_log = logreg.predict(X_test)\n",
    "y_test_pred_prob_log = logreg.predict_proba(X_test)\n",
    "\n",
    "sns.heatmap(confusion_matrix(y_test, y_test_predict), annot=True)\n",
    "\n",
    "print('auc:', roc_auc_score(y_test, y_test_pred_prob, multi_class='ovr'))\n",
    "print('accuracy:', accuracy_score(y_test, y_test_predict))\n",
    "plt.show()\n",
    "\n",
    "sns.heatmap(confusion_matrix(y_test, y_test_predict_log), annot=True)\n",
    "\n",
    "print('log auc:', roc_auc_score(y_test, y_test_pred_prob_log, multi_class='ovr'))\n",
    "print('log accuracy:', accuracy_score(y_test, y_test_predict_log))\n"
   ]
  },
  {
   "cell_type": "code",
   "execution_count": 27,
   "id": "34d908fe-6b36-4465-8f0e-502c7fc3f932",
   "metadata": {},
   "outputs": [
    {
     "data": {
      "text/plain": [
       "(640,)"
      ]
     },
     "execution_count": 27,
     "metadata": {},
     "output_type": "execute_result"
    }
   ],
   "source": [
    "y_test.shape"
   ]
  },
  {
   "cell_type": "code",
   "execution_count": 29,
   "id": "af3047f9-d972-4381-a0f4-85b7a068798d",
   "metadata": {},
   "outputs": [
    {
     "data": {
      "text/plain": [
       "array([[1.14892551e-03, 9.84620226e-01, 9.06259724e-03, 5.16825147e-03],\n",
       "       [4.82910677e-03, 3.67128907e-01, 5.59815331e-01, 6.82266546e-02],\n",
       "       [1.97955934e-05, 9.94306201e-01, 5.45733103e-03, 2.16672700e-04],\n",
       "       ...,\n",
       "       [9.61739081e-04, 2.64127118e-03, 9.00268544e-01, 9.61284453e-02],\n",
       "       [1.29181795e-03, 3.99901450e-03, 9.86734623e-01, 7.97454427e-03],\n",
       "       [1.38021133e-03, 8.46140746e-02, 9.08833195e-01, 5.17251882e-03]])"
      ]
     },
     "execution_count": 29,
     "metadata": {},
     "output_type": "execute_result"
    }
   ],
   "source": [
    "y_test_pred_prob"
   ]
  },
  {
   "cell_type": "code",
   "execution_count": null,
   "id": "feeaec75-c0a2-416d-9dc5-cf7a320fbe46",
   "metadata": {},
   "outputs": [],
   "source": []
  }
 ],
 "metadata": {
  "kernelspec": {
   "display_name": "Python 3 (ipykernel)",
   "language": "python",
   "name": "python3"
  },
  "language_info": {
   "codemirror_mode": {
    "name": "ipython",
    "version": 3
   },
   "file_extension": ".py",
   "mimetype": "text/x-python",
   "name": "python",
   "nbconvert_exporter": "python",
   "pygments_lexer": "ipython3",
   "version": "3.11.5"
  }
 },
 "nbformat": 4,
 "nbformat_minor": 5
}
