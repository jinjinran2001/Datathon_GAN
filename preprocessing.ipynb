{
 "cells": [
  {
   "cell_type": "code",
   "execution_count": 2,
   "id": "c66d79d3-264f-45a4-92e7-0858b12b7ca9",
   "metadata": {},
   "outputs": [],
   "source": [
    "from sklearn.model_selection import train_test_split\n",
    "import pandas"
   ]
  },
  {
   "cell_type": "code",
   "execution_count": 10,
   "id": "fdccb58d-2617-4dbc-ac62-2c792210e88a",
   "metadata": {},
   "outputs": [],
   "source": [
    "raw_data = pandas.read_csv('./data/wine.csv')\n",
    "\n",
    "raw_x = raw_data.iloc[:, 0:11]\n",
    "raw_y = raw_data.iloc[:, 11]\n"
   ]
  },
  {
   "cell_type": "code",
   "execution_count": 19,
   "id": "e3cff785-a3f0-4a10-8f80-8e1f1263a034",
   "metadata": {},
   "outputs": [],
   "source": [
    "X_train, X_test, y_train, y_test = train_test_split(raw_x, raw_y, stratify=raw_y, train_size=0.6)"
   ]
  },
  {
   "cell_type": "code",
   "execution_count": 25,
   "id": "9bdad422-c5ea-4935-ad31-b7e0b8aee274",
   "metadata": {},
   "outputs": [],
   "source": [
    "X_test.to_csv('./data/X_test.csv', index=False)\n",
    "X_train.to_csv('./data/X_train.csv', index=False)\n",
    "y_test.to_csv('./data/y_test.csv', index=False)\n",
    "y_train.to_csv('./data/y_train.csv', index=False)"
   ]
  },
  {
   "cell_type": "code",
   "execution_count": null,
   "id": "7519b3b5-e6a0-4770-8b43-14e82f4bc7f9",
   "metadata": {},
   "outputs": [],
   "source": []
  },
  {
   "cell_type": "code",
   "execution_count": null,
   "id": "612f0bc8-4c05-4c57-877d-f9e0ddae0fe0",
   "metadata": {},
   "outputs": [],
   "source": []
  },
  {
   "cell_type": "code",
   "execution_count": null,
   "id": "0624c087-b81f-4801-a3ca-cf90f5330edd",
   "metadata": {},
   "outputs": [],
   "source": []
  },
  {
   "cell_type": "code",
   "execution_count": null,
   "id": "153d3fbe-bfaf-411f-b762-796469559852",
   "metadata": {},
   "outputs": [],
   "source": []
  }
 ],
 "metadata": {
  "kernelspec": {
   "display_name": "Python 3 (ipykernel)",
   "language": "python",
   "name": "python3"
  },
  "language_info": {
   "codemirror_mode": {
    "name": "ipython",
    "version": 3
   },
   "file_extension": ".py",
   "mimetype": "text/x-python",
   "name": "python",
   "nbconvert_exporter": "python",
   "pygments_lexer": "ipython3",
   "version": "3.11.5"
  }
 },
 "nbformat": 4,
 "nbformat_minor": 5
}
